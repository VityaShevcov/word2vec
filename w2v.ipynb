{
 "cells": [
  {
   "cell_type": "code",
   "execution_count": 2,
   "metadata": {},
   "outputs": [],
   "source": [
    "# Обработка корпуса слов\n",
    "\n",
    "import numpy as np\n",
    "\n",
    "def preprocess_text(text):\n",
    "    # Разделяем текст на слова\n",
    "    words = text.split()\n",
    "    \n",
    "    # Создаем словарь уникальных слов с соответствующими индексами\n",
    "    unique_words = set(words)  # Удаляем дубликаты, преобразуя список в множество\n",
    "    word_index = {word: i for i, word in enumerate(unique_words)}\n",
    "    \n",
    "    return words, word_index"
   ]
  },
  {
   "cell_type": "code",
   "execution_count": 3,
   "metadata": {},
   "outputs": [
    {
     "name": "stdout",
     "output_type": "stream",
     "text": [
      "Список слов: ['your', 'cleaned', 'text', 'goes', 'here']\n",
      "Словарь слов и индексов: {'your': 0, 'here': 1, 'cleaned': 2, 'goes': 3, 'text': 4}\n"
     ]
    }
   ],
   "source": [
    "\n",
    "# Пример использования\n",
    "text = \"your cleaned text goes here\"\n",
    "words, word_index = preprocess_text(text)\n",
    "\n",
    "print(\"Список слов:\", words)\n",
    "print(\"Словарь слов и индексов:\", word_index)\n"
   ]
  }
 ],
 "metadata": {
  "kernelspec": {
   "display_name": "alfa_bank",
   "language": "python",
   "name": "python3"
  },
  "language_info": {
   "codemirror_mode": {
    "name": "ipython",
    "version": 3
   },
   "file_extension": ".py",
   "mimetype": "text/x-python",
   "name": "python",
   "nbconvert_exporter": "python",
   "pygments_lexer": "ipython3",
   "version": "3.10.7"
  }
 },
 "nbformat": 4,
 "nbformat_minor": 2
}
